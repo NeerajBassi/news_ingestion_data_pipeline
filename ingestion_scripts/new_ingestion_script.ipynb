{
 "cells": [
  {
   "cell_type": "code",
   "execution_count": 3,
   "id": "8cf63a92",
   "metadata": {},
   "outputs": [
    {
     "name": "stdout",
     "output_type": "stream",
     "text": [
      "Requirement already satisfied: beautifulsoup4 in c:\\users\\hp\\appdata\\local\\programs\\python\\python313\\lib\\site-packages (4.13.4)\n",
      "Requirement already satisfied: soupsieve>1.2 in c:\\users\\hp\\appdata\\local\\programs\\python\\python313\\lib\\site-packages (from beautifulsoup4) (2.7)\n",
      "Requirement already satisfied: typing-extensions>=4.0.0 in c:\\users\\hp\\appdata\\local\\programs\\python\\python313\\lib\\site-packages (from beautifulsoup4) (4.12.2)\n",
      "Note: you may need to restart the kernel to use updated packages.\n"
     ]
    },
    {
     "name": "stderr",
     "output_type": "stream",
     "text": [
      "\n",
      "[notice] A new release of pip is available: 24.2 -> 25.1.1\n",
      "[notice] To update, run: python.exe -m pip install --upgrade pip\n"
     ]
    }
   ],
   "source": [
    "pip install beautifulsoup4"
   ]
  },
  {
   "cell_type": "code",
   "execution_count": 4,
   "metadata": {},
   "outputs": [],
   "source": [
    "import requests\n",
    "from bs4 import BeautifulSoup\n",
    "import sqlite3\n",
    "from datetime import datetime\n",
    "import hashlib\n",
    "import os\n"
   ]
  },
  {
   "cell_type": "code",
   "execution_count": 5,
   "id": "f2b5ba4d",
   "metadata": {},
   "outputs": [],
   "source": [
    "DB_DIR = r\"C:/Users/HP/Documents/repos/news_ingestion_data_pipeline/data\"\n",
    "DB_FILE = \"articles.db\"\n",
    "DB_PATH = os.path.join(DB_DIR, DB_FILE)"
   ]
  },
  {
   "cell_type": "code",
   "execution_count": 6,
   "metadata": {},
   "outputs": [],
   "source": [
    "headers = {\n",
    "    'User-Agent': 'Mozilla/5.0 (Windows NT 10.0; Win64; x64) '\n",
    "                  'AppleWebKit/537.36 (KHTML, like Gecko) '\n",
    "                  'Chrome/115.0.0.0 Safari/537.36'\n",
    "}"
   ]
  },
  {
   "cell_type": "code",
   "execution_count": 35,
   "id": "8439f4d1",
   "metadata": {},
   "outputs": [
    {
     "data": {
      "text/plain": [
       "('2025-08-01T00:00:00', True)"
      ]
     },
     "execution_count": 35,
     "metadata": {},
     "output_type": "execute_result"
    }
   ],
   "source": [
    "def get_latest_news_time():\n",
    "    with sqlite3.connect(DB_PATH) as conn:\n",
    "        cursor = conn.execute(\"SELECT MAX(News_published_time) FROM articles\")\n",
    "        result = cursor.fetchone()\n",
    "        if result[0]:\n",
    "            incremental = True\n",
    "            latest_timestamp = result[0]\n",
    "        else:\n",
    "            incremental = False\n",
    "            latest_timestamp = '2025-07-25T00:00:00'\n",
    "        return (latest_timestamp, incremental)\n",
    "    \n",
    "get_latest_news_time()"
   ]
  },
  {
   "cell_type": "code",
   "execution_count": 8,
   "id": "713b3344",
   "metadata": {},
   "outputs": [],
   "source": [
    "def parse_date(date_str, source= 'skift'):\n",
    "    \"\"\"\n",
    "    Converts date string like 'July 28, 2025' to datetime object.\n",
    "    Return None if parse fails.\n",
    "    \"\"\"\n",
    "    try:\n",
    "        if source == \"Phocusewire\":\n",
    "            return datetime.strptime(date_str.strip(), \"%B %d, %Y\")\n",
    "        else:\n",
    "            return datetime.fromisoformat(date_str)\n",
    "    except Exception:\n",
    "        return None\n",
    "    \n",
    "def generate_article_id(url):\n",
    "    return hashlib.md5(url.encode(\"utf-8\")).hexdigest()\n",
    "\n",
    "\n",
    "\n",
    "def datetime_to_iso_with_time(dt, time_str=\"00:00:00\"):\n",
    "    \"\"\"\n",
    "    Convert a datetime object to ISO8601 string with a fixed time part.\n",
    "\n",
    "    Args:\n",
    "        dt (datetime): A datetime object (date part used).\n",
    "        time_str (str): Time string 'HH:MM:SS' to append (default '10:00:00').\n",
    "\n",
    "    Returns:\n",
    "        str: Formatted ISO8601 string in 'YYYY-MM-DDTHH:MM:SS' format\n",
    "    \"\"\"\n",
    "    date_part = dt.strftime(\"%Y-%m-%d\")\n",
    "    return f\"{date_part}T{time_str}\""
   ]
  },
  {
   "cell_type": "code",
   "execution_count": 36,
   "id": "88eacfd2",
   "metadata": {},
   "outputs": [],
   "source": [
    "def phocuswire_web_scraping(last_ingested_date):\n",
    "    \"\"\"\n",
    "    Scrapes articles page by page, stops when articles are older than last_ingested_date.\n",
    "\n",
    "    Args:\n",
    "        last_ingested_date (datetime or None): datetime to stop ingestion at.\n",
    "        max_pages (int): max number of pages to crawl.\n",
    "\n",
    "    Returns:\n",
    "        List of BeautifulSoup article elements (or could be dictionaries of data).\n",
    "    \"\"\"\n",
    "    base_url = \"https://www.phocuswire.com\"\n",
    "    page = 1\n",
    "    collected_articles = []\n",
    "    last_ingested_date = parse_date(last_ingested_date)\n",
    "    while True:\n",
    "        base_url = \"https://www.phocuswire.com\"\n",
    "        url = f\"{base_url}/Latest-News?pg={page}\"\n",
    "        response = requests.get(url, headers=headers)\n",
    "\n",
    "        if response.status_code != 200:\n",
    "            print(f\"Stopping due to bad status: {response.status_code} at page {page}\")\n",
    "            break\n",
    "\n",
    "        soup = BeautifulSoup(response.text, \"html.parser\")\n",
    "        articles = soup.select(\"div.article-list  div.item\")\n",
    "\n",
    "        if not articles:\n",
    "            print(f\"No articles found on page {page}, stopping.\")\n",
    "            break\n",
    "\n",
    "        stop_paging = False\n",
    "\n",
    "        for article in articles:\n",
    "            # Extract news date (inside div.author)\n",
    "            title_tag = article.select_one(\"a.title\")\n",
    "            headline = title_tag.get_text(strip=True) if title_tag else None\n",
    "            news_url = f\"{base_url}/{title_tag['href']}\" if title_tag and 'href' in title_tag.attrs else None\n",
    "            article_id = generate_article_id(news_url) if news_url else None\n",
    "\n",
    "            author_span = article.select_one(\"div.author > span.name\")\n",
    "            author_name = author_span.get_text(strip=True).replace(\"By \", \"\") if author_span else None\n",
    "            \n",
    "            # Extract news time from div.author text after the pipe symbol\n",
    "            author_div = article.select_one(\"div.author\")\n",
    "            news_time = None\n",
    "            if author_div:\n",
    "                # The text looks like 'By Abby Crotty | July 28, 2025'\n",
    "                # We can split by '|' and strip whitespace to get news time\n",
    "                parts = author_div.text.split('|')\n",
    "                if len(parts) == 2:\n",
    "                    news_time = parts[1].strip()\n",
    "                    news_time = parse_date(news_time, \"Phocusewire\")\n",
    "\n",
    "            if news_time:\n",
    "                # If last_ingested_date is set and this article is older or equal, stop ingestion\n",
    "                print(\"News time : \",news_time)\n",
    "                print(\"last -ngested time: \", last_ingested_date)\n",
    "                print(\"-\"*40)\n",
    "                if last_ingested_date and news_time < last_ingested_date:\n",
    "                    stop_paging = True\n",
    "                    print(f\"Encountered article dated {news_time} < last ingested {last_ingested_date}, stopping.\")\n",
    "                    break\n",
    "            else:\n",
    "                # If no date found, you can decide to skip or include\n",
    "                print(\"Article without date found, skipping date check.\")\n",
    "\n",
    "            collected_articles.append({\"Article_id\":article_id,\"News_title\":headline,\"News_link\":news_url,\"Author_name\":author_name,\"News_published_time\":datetime_to_iso_with_time(news_time), \"Source_name\": \"Phocuswire\"})\n",
    "\n",
    "        if stop_paging:\n",
    "            break\n",
    "\n",
    "        page += 1\n",
    "        print(page)\n",
    "\n",
    "    print(\"No. of new articles ingested : \", len(collected_articles))\n",
    "    return collected_articles"
   ]
  },
  {
   "cell_type": "code",
   "execution_count": 37,
   "id": "6e95f3b4",
   "metadata": {},
   "outputs": [
    {
     "name": "stdout",
     "output_type": "stream",
     "text": [
      "('2025-08-01T00:00:00', True)\n",
      "News time :  2025-08-01 00:00:00\n",
      "last -ngested time:  2025-08-01 00:00:00\n",
      "----------------------------------------\n",
      "News time :  2025-08-01 00:00:00\n",
      "last -ngested time:  2025-08-01 00:00:00\n",
      "----------------------------------------\n",
      "News time :  2025-08-01 00:00:00\n",
      "last -ngested time:  2025-08-01 00:00:00\n",
      "----------------------------------------\n",
      "News time :  2025-07-31 00:00:00\n",
      "last -ngested time:  2025-08-01 00:00:00\n",
      "----------------------------------------\n",
      "Encountered article dated 2025-07-31 00:00:00 < last ingested 2025-08-01 00:00:00, stopping.\n",
      "No. of new articles ingested :  3\n"
     ]
    }
   ],
   "source": [
    "latest_timestamp = get_latest_news_time()\n",
    "print(latest_timestamp)\n",
    "extracted_articles = phocuswire_web_scraping(latest_timestamp[0])"
   ]
  },
  {
   "cell_type": "code",
   "execution_count": 38,
   "id": "d7708f9a",
   "metadata": {},
   "outputs": [
    {
     "data": {
      "text/plain": [
       "[{'Article_id': '57df0278655170f8de688fcd84bbd72b',\n",
       "  'News_title': 'The evolution of CRM in hotels',\n",
       "  'News_link': 'https://www.phocuswire.com//penta-hotels-smart-host-phocuswright-europe-2025',\n",
       "  'Author_name': 'Linda Fox',\n",
       "  'News_published_time': '2025-08-01T00:00:00',\n",
       "  'Source_name': 'Phocuswire'},\n",
       " {'Article_id': '6c2fe2b95e5b4febb64ba2105cf07582',\n",
       "  'News_title': 'Weighing in on the next generation of travel products and services around the world',\n",
       "  'News_link': 'https://www.phocuswire.com//phocuswright-europe-2025-bridge-series-next-gen-travel-products-services',\n",
       "  'Author_name': 'Abby Crotty',\n",
       "  'News_published_time': '2025-08-01T00:00:00',\n",
       "  'Source_name': 'Phocuswire'},\n",
       " {'Article_id': '7ac8bd31b72b6538309c54d643853517',\n",
       "  'News_title': \"PhocusWire's weekly travel tech news briefs: Casago, GuideGeek, Booking.com and more...\",\n",
       "  'News_link': 'https://www.phocuswire.com//travel-tech-news-briefs-aug-1-2025',\n",
       "  'Author_name': 'PhocusWire',\n",
       "  'News_published_time': '2025-08-01T00:00:00',\n",
       "  'Source_name': 'Phocuswire'}]"
      ]
     },
     "execution_count": 38,
     "metadata": {},
     "output_type": "execute_result"
    }
   ],
   "source": [
    "extracted_articles"
   ]
  },
  {
   "cell_type": "code",
   "execution_count": 27,
   "id": "8444dad1",
   "metadata": {},
   "outputs": [],
   "source": [
    "def upsert_articles(filtered_articles):\n",
    "\n",
    "    with sqlite3.connect(DB_PATH) as conn:\n",
    "        for article in filtered_articles:\n",
    "            sql = \"\"\"\n",
    "            INSERT INTO articles (Article_id,  News_link, News_title, Author_name, News_published_time, Source_name, Processed_at)\n",
    "            VALUES (?, ?,  ?, ?, ?, ?, CURRENT_TIMESTAMP)\n",
    "            ON CONFLICT(Article_id) DO UPDATE SET\n",
    "                News_link = excluded.News_link,\n",
    "                News_title = excluded.News_title,\n",
    "                Author_name = excluded.Author_name,\n",
    "                News_published_time = excluded.News_published_time,\n",
    "                Source_name = excluded.Source_name,\n",
    "                Processed_at = CURRENT_TIMESTAMP\n",
    "            \"\"\"\n",
    "            params = (\n",
    "                article.get('Article_id'),\n",
    "                article.get('News_link'),\n",
    "                article.get('News_title'),\n",
    "                article.get('Author_name'),\n",
    "                article.get('News_published_time'),\n",
    "                article.get('Source_name'),\n",
    "            )\n",
    "            print(params)\n",
    "            cursor = conn.cursor()\n",
    "            cursor.execute(sql, params)"
   ]
  },
  {
   "cell_type": "code",
   "execution_count": 39,
   "id": "7c1ee90c",
   "metadata": {},
   "outputs": [
    {
     "name": "stdout",
     "output_type": "stream",
     "text": [
      "('57df0278655170f8de688fcd84bbd72b', 'https://www.phocuswire.com//penta-hotels-smart-host-phocuswright-europe-2025', 'The evolution of CRM in hotels', 'Linda Fox', '2025-08-01T00:00:00', 'Phocuswire')\n",
      "('6c2fe2b95e5b4febb64ba2105cf07582', 'https://www.phocuswire.com//phocuswright-europe-2025-bridge-series-next-gen-travel-products-services', 'Weighing in on the next generation of travel products and services around the world', 'Abby Crotty', '2025-08-01T00:00:00', 'Phocuswire')\n",
      "('7ac8bd31b72b6538309c54d643853517', 'https://www.phocuswire.com//travel-tech-news-briefs-aug-1-2025', \"PhocusWire's weekly travel tech news briefs: Casago, GuideGeek, Booking.com and more...\", 'PhocusWire', '2025-08-01T00:00:00', 'Phocuswire')\n"
     ]
    }
   ],
   "source": [
    "upsert_articles(extracted_articles)"
   ]
  },
  {
   "cell_type": "code",
   "execution_count": 32,
   "id": "e1460cdb",
   "metadata": {},
   "outputs": [],
   "source": [
    "def query_top5_articles():\n",
    "    # Connect to the SQLite database\n",
    "    with sqlite3.connect(DB_PATH) as conn:\n",
    "        cursor = conn.cursor()\n",
    "\n",
    "        # Execute a query to select all articles\n",
    "        cursor.execute(\"\"\"SELECT Article_id, News_link, News_title,Author_name, News_published_time, Source_name, Processed_at FROM articles\n",
    "                        ORDER BY News_published_time DESC LIMIT 5\"\"\")\n",
    "\n",
    "        # Fetch all rows returned by the query\n",
    "        rows = cursor.fetchall()\n",
    "        # Process and display results\n",
    "        for row in rows:\n",
    "            print(row)"
   ]
  },
  {
   "cell_type": "code",
   "execution_count": 41,
   "id": "4e053472",
   "metadata": {},
   "outputs": [
    {
     "name": "stdout",
     "output_type": "stream",
     "text": [
      "(17,)\n"
     ]
    }
   ],
   "source": [
    "with sqlite3.connect(DB_PATH) as conn:\n",
    "    cursor = conn.cursor()\n",
    "\n",
    "    # Execute a query to select all articles\n",
    "    cursor.execute(\"\"\"SELECT Count(*) FROM articles\n",
    "                    \"\"\")\n",
    "\n",
    "    # Fetch all rows returned by the query\n",
    "    rows = cursor.fetchall()\n",
    "    # Process and display results\n",
    "    for row in rows:\n",
    "        print(row)"
   ]
  },
  {
   "cell_type": "code",
   "execution_count": 33,
   "id": "a3b8b543",
   "metadata": {},
   "outputs": [
    {
     "name": "stdout",
     "output_type": "stream",
     "text": [
      "('57df0278655170f8de688fcd84bbd72b', 'https://www.phocuswire.com//penta-hotels-smart-host-phocuswright-europe-2025', 'The evolution of CRM in hotels', 'Linda Fox', '2025-08-01T00:00:00', 'Phocuswire', '2025-08-02 12:21:22')\n",
      "('6c2fe2b95e5b4febb64ba2105cf07582', 'https://www.phocuswire.com//phocuswright-europe-2025-bridge-series-next-gen-travel-products-services', 'Weighing in on the next generation of travel products and services around the world', 'Abby Crotty', '2025-08-01T00:00:00', 'Phocuswire', '2025-08-02 12:21:22')\n",
      "('7ac8bd31b72b6538309c54d643853517', 'https://www.phocuswire.com//travel-tech-news-briefs-aug-1-2025', \"PhocusWire's weekly travel tech news briefs: Casago, GuideGeek, Booking.com and more...\", 'PhocusWire', '2025-08-01T00:00:00', 'Phocuswire', '2025-08-02 12:21:22')\n",
      "('8f1bc8e9aa9412e967c9b535a7020a6b', 'https://www.phocuswire.com//amadeus-q2-2025', 'Amadeus looks to future with ‘steady growth’ in first half of 2025', 'Linda Fox', '2025-07-31T00:00:00', 'Phocuswire', '2025-08-02 12:21:22')\n",
      "('cdceda3028e6df703050dd7af3032441', 'https://www.phocuswire.com//interest-media-rise-travel-social-media-tiktok-instagram', 'Travel executives on the rise of ‘interest media’', 'Morgan Hines', '2025-07-31T00:00:00', 'Phocuswire', '2025-08-02 12:21:22')\n"
     ]
    }
   ],
   "source": [
    "query_top5_articles()\n"
   ]
  },
  {
   "cell_type": "code",
   "execution_count": 40,
   "id": "b284765f",
   "metadata": {},
   "outputs": [
    {
     "name": "stdout",
     "output_type": "stream",
     "text": [
      "('57df0278655170f8de688fcd84bbd72b', 'https://www.phocuswire.com//penta-hotels-smart-host-phocuswright-europe-2025', 'The evolution of CRM in hotels', 'Linda Fox', '2025-08-01T00:00:00', 'Phocuswire', '2025-08-02 12:25:22')\n",
      "('6c2fe2b95e5b4febb64ba2105cf07582', 'https://www.phocuswire.com//phocuswright-europe-2025-bridge-series-next-gen-travel-products-services', 'Weighing in on the next generation of travel products and services around the world', 'Abby Crotty', '2025-08-01T00:00:00', 'Phocuswire', '2025-08-02 12:25:22')\n",
      "('7ac8bd31b72b6538309c54d643853517', 'https://www.phocuswire.com//travel-tech-news-briefs-aug-1-2025', \"PhocusWire's weekly travel tech news briefs: Casago, GuideGeek, Booking.com and more...\", 'PhocusWire', '2025-08-01T00:00:00', 'Phocuswire', '2025-08-02 12:25:22')\n",
      "('8f1bc8e9aa9412e967c9b535a7020a6b', 'https://www.phocuswire.com//amadeus-q2-2025', 'Amadeus looks to future with ‘steady growth’ in first half of 2025', 'Linda Fox', '2025-07-31T00:00:00', 'Phocuswire', '2025-08-02 12:21:22')\n",
      "('cdceda3028e6df703050dd7af3032441', 'https://www.phocuswire.com//interest-media-rise-travel-social-media-tiktok-instagram', 'Travel executives on the rise of ‘interest media’', 'Morgan Hines', '2025-07-31T00:00:00', 'Phocuswire', '2025-08-02 12:21:22')\n"
     ]
    }
   ],
   "source": [
    "query_top5_articles()\n"
   ]
  },
  {
   "cell_type": "code",
   "execution_count": null,
   "id": "55529ee0",
   "metadata": {},
   "outputs": [],
   "source": [
    "1) Query target data source, sqlite, and get max time stamp from the data base. -Done\n",
    "2) If timestamp is null return latest_timestamp = '2025-07-01T00:00:00' and incremental = False (meaning do full load from this timestamp)\n",
    " else return latest_timestamp from database and incremental = True. -Done\n",
    "3) Now since website is paginated now query the website from latest page and check for the last news on each page is that smaller then latest_timestamp \n",
    "if yes then stop else go to next page and repeat process.\n",
    "4) once you get all the extracted information, just merge the the extracted information in the database so to avoid any duplicates on last page of news.\n",
    "\n",
    "This will be repeated for the other source too."
   ]
  },
  {
   "cell_type": "code",
   "execution_count": null,
   "id": "d13b795b",
   "metadata": {},
   "outputs": [],
   "source": [
    "def phocuswire_web_scraping(last_ingested_date, min_delay=1, max_delay=3):\n",
    "    \"\"\"\n",
    "    Scrapes articles page by page, stops when articles are older than last_ingested_date.\n",
    "\n",
    "    Args:\n",
    "        last_ingested_date (datetime or None): datetime to stop ingestion at.\n",
    "        max_pages (int): max number of pages to crawl.\n",
    "\n",
    "    Returns:\n",
    "        List of BeautifulSoup article elements (or could be dictionaries of data).\n",
    "    \"\"\"\n",
    "    base_url = \"https://www.phocuswire.com\"\n",
    "    page = 1\n",
    "    collected_articles = []\n",
    "    headers = {\n",
    "    'User-Agent': 'Mozilla/5.0 (Windows NT 10.0; Win64; x64) '\n",
    "                  'AppleWebKit/537.36 (KHTML, like Gecko) '\n",
    "                  'Chrome/115.0.0.0 Safari/537.36'\n",
    "    }\n",
    "    while True:\n",
    "        base_url = \"https://www.phocuswire.com\"\n",
    "        url = f\"{base_url}/Latest-News?pg={page}\"\n",
    "        response = requests.get(url, headers=headers)\n",
    "\n",
    "        if response.status_code != 200:\n",
    "            print(f\"Stopping due to bad status: {response.status_code} at page {page}\")\n",
    "            break\n",
    "\n",
    "        soup = BeautifulSoup(response.text, \"html.parser\")\n",
    "        articles = soup.select(\"div.article-list  div.item\")\n",
    "\n",
    "        if not articles:\n",
    "            print(f\"No articles found on page {page}, stopping.\")\n",
    "            break\n",
    "\n",
    "        stop_paging = False\n",
    "\n",
    "        for article in articles:\n",
    "            # Extract news date (inside div.author)\n",
    "            title_tag = article.select_one(\"a.title\")\n",
    "            headline = title_tag.get_text(strip=True) if title_tag else None\n",
    "            news_url = f\"{base_url}/{title_tag['href']}\" if title_tag and 'href' in title_tag.attrs else None\n",
    "            article_id = generate_article_id(news_url) if news_url else None\n",
    "\n",
    "            author_span = article.select_one(\"div.author > span.name\")\n",
    "            author_name = author_span.get_text(strip=True).replace(\"By \", \"\") if author_span else None\n",
    "            \n",
    "            # Extract news time from div.author text after the pipe symbol\n",
    "            author_div = article.select_one(\"div.author\")\n",
    "            news_time = None\n",
    "            if author_div:\n",
    "                # The text looks like 'By Abby Crotty | July 28, 2025'\n",
    "                # We can split by '|' and strip whitespace to get news time\n",
    "                parts = author_div.text.split('|')\n",
    "                if len(parts) == 2:\n",
    "                    news_time = parts[1].strip()\n",
    "                    news_time = parse_date(news_time, \"Phocusewire\")\n",
    "\n",
    "            if news_time:\n",
    "                # If last_ingested_date is set and this article is older or equal, stop ingestion\n",
    "                logging.info(f\"News time : {news_time}\")\n",
    "                logging.info(f\"last -ngested time: {last_ingested_date}\")\n",
    "\n",
    "                if last_ingested_date and news_time < last_ingested_date:\n",
    "                    stop_paging = True\n",
    "                    print(f\"Encountered article dated {news_time} < last ingested {last_ingested_date}, stopping.\")\n",
    "                    break\n",
    "            else:\n",
    "                # If no date found, you can decide to skip or include\n",
    "                print(\"Article without date found, skipping date check.\")\n",
    "\n",
    "            collected_articles.append({\"Article_id\":article_id,\"News_title\":headline,\"News_link\":news_url,\"Author_name\":author_name,\"News_published_time\":datetime_to_iso_with_time(news_time), \"Source_name\": \"Phocuswire\"})\n",
    "\n",
    "        if stop_paging:\n",
    "            break\n",
    "\n",
    "        page += 1\n",
    "        print(page)\n",
    "\n",
    "    print(\"No. of new articles ingested : \", len(collected_articles))\n",
    "    return collected_articles"
   ]
  }
 ],
 "metadata": {
  "kernelspec": {
   "display_name": "Python 3",
   "language": "python",
   "name": "python3"
  },
  "language_info": {
   "codemirror_mode": {
    "name": "ipython",
    "version": 3
   },
   "file_extension": ".py",
   "mimetype": "text/x-python",
   "name": "python",
   "nbconvert_exporter": "python",
   "pygments_lexer": "ipython3",
   "version": "3.13.0"
  }
 },
 "nbformat": 4,
 "nbformat_minor": 5
}

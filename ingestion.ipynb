{
 "cells": [
  {
   "cell_type": "code",
   "execution_count": 3,
   "id": "23f5d923",
   "metadata": {},
   "outputs": [
    {
     "name": "stdout",
     "output_type": "stream",
     "text": [
      "Requirement already satisfied: beautifulsoup4 in c:\\users\\hp\\appdata\\local\\programs\\python\\python313\\lib\\site-packages (4.13.4)\n",
      "Requirement already satisfied: soupsieve>1.2 in c:\\users\\hp\\appdata\\local\\programs\\python\\python313\\lib\\site-packages (from beautifulsoup4) (2.7)\n",
      "Requirement already satisfied: typing-extensions>=4.0.0 in c:\\users\\hp\\appdata\\local\\programs\\python\\python313\\lib\\site-packages (from beautifulsoup4) (4.12.2)\n",
      "Note: you may need to restart the kernel to use updated packages.\n"
     ]
    },
    {
     "name": "stderr",
     "output_type": "stream",
     "text": [
      "\n",
      "[notice] A new release of pip is available: 24.2 -> 25.1.1\n",
      "[notice] To update, run: python.exe -m pip install --upgrade pip\n"
     ]
    }
   ],
   "source": [
    "pip install beautifulsoup4"
   ]
  },
  {
   "cell_type": "code",
   "execution_count": 48,
   "metadata": {},
   "outputs": [],
   "source": [
    "import requests\n",
    "from bs4 import BeautifulSoup\n",
    "import sqlite3\n",
    "from datetime import datetime\n",
    "import hashlib\n",
    "import os\n",
    "from requests.exceptions import RequestException\n",
    "import logging\n",
    "import time\n",
    "import random"
   ]
  },
  {
   "cell_type": "code",
   "execution_count": 49,
   "id": "e47aca97",
   "metadata": {},
   "outputs": [],
   "source": [
    "DB_DIR = r\"C:/Users/HP/Documents/repos/news_ingestion_data_pipeline/data\"\n",
    "DB_FILE = \"articles.db\"\n",
    "DB_PATH = os.path.join(DB_DIR, DB_FILE)"
   ]
  },
  {
   "cell_type": "code",
   "execution_count": 50,
   "id": "d998db7c",
   "metadata": {},
   "outputs": [],
   "source": [
    "def get_latest_news_time():\n",
    "    with sqlite3.connect(DB_PATH) as conn:\n",
    "        cursor = conn.execute(\"SELECT MAX(News_published_time) FROM articles\")\n",
    "        result = cursor.fetchone()\n",
    "        if result[0]:\n",
    "            incremental = True\n",
    "            latest_timestamp = result[0]\n",
    "        else:\n",
    "            incremental = False\n",
    "            latest_timestamp = '2025-07-25T00:00:00'\n",
    "\n",
    "        latest_timestamp = datetime.fromisoformat(latest_timestamp).replace(hour=0, minute=0, second=0, microsecond=0)\n",
    "        return (latest_timestamp, incremental)\n",
    "    \n",
    "def upsert_articles(filtered_articles):\n",
    "    with sqlite3.connect(DB_PATH) as conn:\n",
    "        for article in filtered_articles:\n",
    "            sql = \"\"\"\n",
    "            INSERT INTO articles (Article_id,  News_link, News_title, Author_name, News_published_time, Source_name, Processed_at)\n",
    "            VALUES (?, ?,  ?, ?, ?, ?, CURRENT_TIMESTAMP)\n",
    "            ON CONFLICT(Article_id) DO UPDATE SET\n",
    "                News_link = excluded.News_link,\n",
    "                News_title = excluded.News_title,\n",
    "                Author_name = excluded.Author_name,\n",
    "                News_published_time = excluded.News_published_time,\n",
    "                Source_name = excluded.Source_name,\n",
    "                Processed_at = CURRENT_TIMESTAMP\n",
    "            \"\"\"\n",
    "            params = (\n",
    "                article.get('Article_id'),\n",
    "                article.get('News_link'),\n",
    "                article.get('News_title'),\n",
    "                article.get('Author_name'),\n",
    "                article.get('News_published_time'),\n",
    "                article.get('Source_name')\n",
    "            )\n",
    "            cursor = conn.cursor()\n",
    "            cursor.execute(sql, params)\n",
    "\n",
    "def query_topn_articles(n = 5):\n",
    "    # Connect to the SQLite database\n",
    "    with sqlite3.connect(DB_PATH) as conn:\n",
    "        cursor = conn.cursor()\n",
    "\n",
    "        # Execute a query to select all articles\n",
    "        cursor.execute(f\"\"\"SELECT Article_id, News_link, News_title,Author_name, News_published_time, Source_name, Processed_at FROM articles\n",
    "                        ORDER BY News_published_time DESC LIMIT {n}\"\"\")\n",
    "\n",
    "        # Fetch all rows returned by the query\n",
    "        rows = cursor.fetchall()\n",
    "        # Process and display results\n",
    "        for row in rows:\n",
    "            print(row)\n"
   ]
  },
  {
   "cell_type": "code",
   "execution_count": 56,
   "id": "8f18699f",
   "metadata": {},
   "outputs": [],
   "source": [
    "from PhocusWire.PhocusWireSource import PhocuswireScraper\n",
    "from Skift.SkiftSource import SkiftScraper"
   ]
  },
  {
   "cell_type": "code",
   "execution_count": 58,
   "id": "498c25c4",
   "metadata": {},
   "outputs": [
    {
     "name": "stdout",
     "output_type": "stream",
     "text": [
      "2025-08-01 00:00:00\n",
      "Initiating increment load...\n",
      "Latest record time stamp present in database :  2025-08-01 00:00:00\n"
     ]
    },
    {
     "ename": "NameError",
     "evalue": "name 'generate_article_id' is not defined",
     "output_type": "error",
     "traceback": [
      "\u001b[31m---------------------------------------------------------------------------\u001b[39m",
      "\u001b[31mNameError\u001b[39m                                 Traceback (most recent call last)",
      "\u001b[36mCell\u001b[39m\u001b[36m \u001b[39m\u001b[32mIn[58]\u001b[39m\u001b[32m, line 13\u001b[39m\n\u001b[32m     10\u001b[39m extracted_articles = []\n\u001b[32m     12\u001b[39m Skriftscraper = SkiftScraper()\n\u001b[32m---> \u001b[39m\u001b[32m13\u001b[39m skift_articles = \u001b[43mSkriftscraper\u001b[49m\u001b[43m.\u001b[49m\u001b[43mextract_articles\u001b[49m\u001b[43m(\u001b[49m\u001b[43mlatest_timestamp\u001b[49m\u001b[43m)\u001b[49m\n\u001b[32m     14\u001b[39m extracted_articles.extend(skift_articles)\n\u001b[32m     15\u001b[39m Phocuswirescraper = PhocuswireScraper()\n",
      "\u001b[36mFile \u001b[39m\u001b[32mc:\\Users\\HP\\Documents\\repos\\news_ingestion_data_pipeline\\Skift\\SkiftSource.py:83\u001b[39m, in \u001b[36mSkiftScraper.extract_articles\u001b[39m\u001b[34m(self, last_ingested_date)\u001b[39m\n\u001b[32m     80\u001b[39m     \u001b[38;5;28mprint\u001b[39m(\u001b[33m\"\u001b[39m\u001b[33mArticle missing href link, skipping.\u001b[39m\u001b[33m\"\u001b[39m)\n\u001b[32m     81\u001b[39m     \u001b[38;5;28;01mcontinue\u001b[39;00m\n\u001b[32m---> \u001b[39m\u001b[32m83\u001b[39m article_id = \u001b[43mgenerate_article_id\u001b[49m(news_url)\n\u001b[32m     84\u001b[39m \u001b[38;5;28;01mif\u001b[39;00m article_id \u001b[38;5;129;01min\u001b[39;00m \u001b[38;5;28mself\u001b[39m.seen_article_ids:\n\u001b[32m     85\u001b[39m     \u001b[38;5;28mprint\u001b[39m(\u001b[33mf\u001b[39m\u001b[33m\"\u001b[39m\u001b[33mDuplicate article \u001b[39m\u001b[38;5;132;01m{\u001b[39;00marticle_id\u001b[38;5;132;01m}\u001b[39;00m\u001b[33m found, skipping.\u001b[39m\u001b[33m\"\u001b[39m)\n",
      "\u001b[31mNameError\u001b[39m: name 'generate_article_id' is not defined"
     ]
    }
   ],
   "source": [
    "if __name__ == \"__main__\":\n",
    "    latest_timestamp, is_incremental = get_latest_news_time()\n",
    "    print(f\"{latest_timestamp}\")\n",
    "    if is_incremental:\n",
    "        print(\"Initiating increment load...\")\n",
    "        print(\"Latest record time stamp present in database : \",latest_timestamp)\n",
    "    else:\n",
    "        print(\"Latest record timestamp not found in database.\")\n",
    "        print(\"Initiating full load...\")\n",
    "    extracted_articles = []\n",
    "    \n",
    "    Skriftscraper = SkiftScraper()\n",
    "    skift_articles = Skriftscraper.extract_articles(latest_timestamp)\n",
    "    extracted_articles.extend(skift_articles)\n",
    "    Phocuswirescraper = PhocuswireScraper()\n",
    "    phocuswire_articles = Phocuswirescraper.extract_articles(latest_timestamp)\n",
    "    extracted_articles.extend(phocuswire_articles)\n",
    "\n",
    "    print(\"Total articles extracted : \", len(extracted_articles))\n",
    "\n",
    "    upsert_articles(extracted_articles)\n",
    "\n",
    "  \n"
   ]
  },
  {
   "cell_type": "code",
   "execution_count": 256,
   "id": "bad4f177",
   "metadata": {},
   "outputs": [
    {
     "name": "stdout",
     "output_type": "stream",
     "text": [
      "('b6180012cdfcaab01451bded2196d26c', 'https://skift.com/2025/08/01/from-concur-to-spotnana-steve-singh-on-how-ai-could-fix-corporate-travel/', 'From Concur to Spotnana: Steve Singh on How AI Could Fix Corporate Travel', \"Sean O'Neill\", '2025-08-01T17:19:21', 'Skift', '2025-08-02 21:18:26')\n",
      "('d030436466546bcf23aa4befbf4d08b6', 'https://skift.com/2025/08/01/delta-says-it-will-not-use-ai-to-target-customers/', 'Delta Responds to AI-Pricing Backlash: No ‘Individualized Prices Based on Personal Data’', 'Meghna Maharishi', '2025-08-01T15:05:14', 'Skift', '2025-08-02 21:18:26')\n",
      "('8db7ffa1ba14adc8dd8348e7f5d1923d', 'https://skift.com/2025/08/01/u-s-dollar-slide-hurts-accor-minor-and-melia/', 'U.S. Dollar Slide Hurts Accor, Minor, and Meliá', 'Luke Martin', '2025-08-01T13:53:29', 'Skift', '2025-08-02 21:18:26')\n",
      "('3fa30e2c6eee18976f224053633c1a27', 'https://skift.com/2025/08/01/winners-losers-and-lots-of-premium-seats-europes-airline-scorecard/', 'Winners, Losers, and Lots of Premium Seats: Europe’s Airline Scorecard', 'Gordon Smith', '2025-08-01T13:13:39', 'Skift', '2025-08-02 21:18:26')\n",
      "('265b2b2258dd197970b5619cbd6b943a', 'https://skift.com/2025/08/01/electrification-and-renewables-are-driving-iberostars-emissions-decline/', 'Electrification and Renewables Are Driving Iberostar’s Emissions Decline', 'Darin Graham', '2025-08-01T13:02:26', 'Skift', '2025-08-02 21:18:26')\n",
      "('faaffa0546e28c8a42886a98ae4eeb1f', 'https://skift.com/2025/08/01/unmanaged-business-travel-still-dominates-as-smbs-seek-flexible-consumer-style-booking/', 'Unmanaged Business Travel Still Dominates as SMBs Seek Flexible, Consumer-Style Booking', 'Clara Awuse', '2025-08-01T11:57:13', 'Skift', '2025-08-02 21:18:26')\n",
      "('b7b2ec4cf8809f9bf777cfccac1a3ef8', 'https://meetings.skift.com/2025/08/01/from-vegas-to-nashville-elon-musks-loop-targets-event-cities/', 'From Vegas to Nashville: Elon Musk’s Loop Targets Event Cities', 'Andrea Doyle', '2025-08-01T11:04:35', 'Skift', '2025-08-02 21:18:26')\n",
      "('0fe47c1e00042e927192adf61a4108e8', 'https://skift.com/2025/08/01/ihg-pursues-business-travelers-through-emirates-and-other-deals/', 'IHG Pursues Business Travelers Through Emirates and Other Deals', \"Sean O'Neill\", '2025-08-01T09:18:11', 'Skift', '2025-08-02 21:18:26')\n",
      "('6e3d2c63527467198251d568495dee15', 'https://skift.com/2025/08/01/chalet-hotels-names-shwetank-singh-ceo-as-sanjay-sethi-steps-down/', 'Chalet Hotels Names Shwetank Singh CEO As Sanjay Sethi Steps Down', 'Bulbul Dhawan', '2025-08-01T08:22:35', 'Skift', '2025-08-02 21:18:26')\n",
      "('cc4aa88bd65eb2f7db7b96aa58ed8414', 'https://meetings.skift.com/2025/08/01/9-ways-to-kickstart-your-career-as-a-special-event-planner/', '9 Ways to Kickstart Your Career as a Special Event Planner', 'Barbara Scofidio', '2025-08-01T08:18:00', 'Skift', '2025-08-02 21:18:26')\n",
      "('79f16f0413ea47dabf64485d2560ca54', 'https://skift.com/2025/08/01/luxury-travel-ai-personalization-manfredi-lefebvre/', 'Luxury Travel’s Next Era: AI, Empathy, and Expertise with Manfredi Lefebvre', 'Kanchi Jain', '2025-08-01T07:16:53', 'Skift', '2025-08-02 21:18:26')\n",
      "('e66f08ee027ccf783948ce4980ea4d19', 'https://skift.com/2025/08/01/booking-trends-ai-tools-and-the-new-rules-of-travel-planning/', 'Booking Trends, AI Tools, and the New Rules of Travel Planning', 'Rashaad Jorden', '2025-08-01T04:52:46', 'Skift', '2025-08-02 21:18:26')\n",
      "('57df0278655170f8de688fcd84bbd72b', 'https://www.phocuswire.com//penta-hotels-smart-host-phocuswright-europe-2025', 'The evolution of CRM in hotels', 'Linda Fox', '2025-08-01T00:00:00', 'Phocuswire', '2025-08-02 21:18:26')\n",
      "('6c2fe2b95e5b4febb64ba2105cf07582', 'https://www.phocuswire.com//phocuswright-europe-2025-bridge-series-next-gen-travel-products-services', 'Weighing in on the next generation of travel products and services around the world', 'Abby Crotty', '2025-08-01T00:00:00', 'Phocuswire', '2025-08-02 21:18:26')\n",
      "('7ac8bd31b72b6538309c54d643853517', 'https://www.phocuswire.com//travel-tech-news-briefs-aug-1-2025', \"PhocusWire's weekly travel tech news briefs: Casago, GuideGeek, Booking.com and more...\", 'PhocusWire', '2025-08-01T00:00:00', 'Phocuswire', '2025-08-02 21:18:26')\n",
      "('dbbd72a1d526c281efcf8b8c02415743', 'https://skift.com/2025/07/31/southwest-airlines-appoints-new-independent-chairman-in-latest-board-shakeup/', 'Southwest Airlines Appoints New Independent Chairman in Latest Board Shakeup', 'Meghna Maharishi', '2025-07-31T17:48:19', 'Skift', '2025-08-02 21:18:10')\n",
      "('8d54e449e391f34406a0d145563072b4', 'https://skift.com/2025/07/31/dont-count-out-google-travel-search-booking-com-still-sees-gains/', 'Don’t Count Out Google Travel Search –\\xa0Booking.com Still Sees Gains', 'Dennis Schaal', '2025-07-31T16:27:43', 'Skift', '2025-08-02 21:18:10')\n",
      "('8df2a315e93092ed041a033719d28c88', 'https://skift.com/2025/07/31/amadeus-and-google-join-forces-again-to-bolster-flights-business/', 'Amadeus and Google Join Forces — Again — To Bolster Flights Business', 'Dennis Schaal', '2025-07-31T13:05:53', 'Skift', '2025-08-02 21:18:10')\n"
     ]
    }
   ],
   "source": [
    "query_topn_articles(18)"
   ]
  },
  {
   "cell_type": "code",
   "execution_count": 254,
   "id": "456019f8",
   "metadata": {},
   "outputs": [
    {
     "name": "stdout",
     "output_type": "stream",
     "text": [
      "(97,)\n"
     ]
    }
   ],
   "source": [
    "with sqlite3.connect(DB_PATH) as conn:\n",
    "    cursor = conn.cursor()\n",
    "\n",
    "    # Execute a query to select all articles\n",
    "    cursor.execute(\"\"\"SELECT Count(*) FROM articles\n",
    "                    \"\"\")\n",
    "\n",
    "    # Fetch all rows returned by the query\n",
    "    rows = cursor.fetchall()\n",
    "    # Process and display results\n",
    "    for row in rows:\n",
    "        print(row)"
   ]
  },
  {
   "cell_type": "code",
   "execution_count": null,
   "id": "0ea02b3a",
   "metadata": {},
   "outputs": [],
   "source": []
  }
 ],
 "metadata": {
  "kernelspec": {
   "display_name": "Python 3",
   "language": "python",
   "name": "python3"
  },
  "language_info": {
   "codemirror_mode": {
    "name": "ipython",
    "version": 3
   },
   "file_extension": ".py",
   "mimetype": "text/x-python",
   "name": "python",
   "nbconvert_exporter": "python",
   "pygments_lexer": "ipython3",
   "version": "3.13.0"
  }
 },
 "nbformat": 4,
 "nbformat_minor": 5
}

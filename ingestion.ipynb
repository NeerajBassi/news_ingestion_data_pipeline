{
 "cells": [
  {
   "cell_type": "code",
   "execution_count": 1,
   "id": "23f5d923",
   "metadata": {},
   "outputs": [
    {
     "name": "stdout",
     "output_type": "stream",
     "text": [
      "Requirement already satisfied: beautifulsoup4 in c:\\users\\hp\\appdata\\local\\programs\\python\\python313\\lib\\site-packages (4.13.4)\n",
      "Requirement already satisfied: soupsieve>1.2 in c:\\users\\hp\\appdata\\local\\programs\\python\\python313\\lib\\site-packages (from beautifulsoup4) (2.7)\n",
      "Requirement already satisfied: typing-extensions>=4.0.0 in c:\\users\\hp\\appdata\\local\\programs\\python\\python313\\lib\\site-packages (from beautifulsoup4) (4.12.2)\n",
      "Note: you may need to restart the kernel to use updated packages.\n"
     ]
    },
    {
     "name": "stderr",
     "output_type": "stream",
     "text": [
      "\n",
      "[notice] A new release of pip is available: 24.2 -> 25.1.1\n",
      "[notice] To update, run: python.exe -m pip install --upgrade pip\n"
     ]
    }
   ],
   "source": [
    "pip install beautifulsoup4"
   ]
  },
  {
   "cell_type": "code",
   "execution_count": 2,
   "metadata": {},
   "outputs": [],
   "source": [
    "import logging\n",
    "from PhocusWire.PhocusWireSource import PhocuswireScraper\n",
    "from Skift.SkiftSource import SkiftScraper\n",
    "from database_utils.database_methods import Database"
   ]
  },
  {
   "cell_type": "code",
   "execution_count": 3,
   "id": "57c00ba3",
   "metadata": {},
   "outputs": [],
   "source": [
    "logging.basicConfig(level=logging.INFO)\n",
    "logger = logging.getLogger(__name__)"
   ]
  },
  {
   "cell_type": "code",
   "execution_count": 11,
   "id": "498c25c4",
   "metadata": {},
   "outputs": [
    {
     "name": "stderr",
     "output_type": "stream",
     "text": [
      "INFO:__main__:Latest record timestamp not found in database.\n",
      "INFO:__main__:Initiating full load...\n",
      "INFO:Skift.SkiftSource:Sleeping for 2.2 seconds before next page request.\n",
      "INFO:Skift.SkiftSource:Author not available for article id 2b9bf83d0e4a3475040dbd8ef9d38144 and article headline Unlocking Hotel Profits: How a Property’s DNA Impacts GDS Bookings.\n",
      "INFO:Skift.SkiftSource:Author not available for article id 6c05e4514a7cb005e1b4d942ddecb3f1 and article headline Abu Dhabi Gets 10-Year License for Sphere Venues in MENA Region.\n",
      "INFO:Skift.SkiftSource:Sleeping for 2.5 seconds before next page request.\n",
      "INFO:Skift.SkiftSource:Sleeping for 2.9 seconds before next page request.\n",
      "INFO:Skift.SkiftSource:Sleeping for 2.1 seconds before next page request.\n",
      "INFO:Skift.SkiftSource:Author not available for article id c25d99908f431b681d7124df78b9d72c and article headline Built for Play: How Qiddiya City Creates a New Destination Paradigm.\n",
      "INFO:Skift.SkiftSource:Author not available for article id b1f0caa3bb40e2f09c81cb01c7029d03 and article headline Diversity, Inclusion, and the Outdoors: How Greater Fort Lauderdale Welcomes Everyone Under the Sun.\n",
      "INFO:Skift.SkiftSource:Sleeping for 2.0 seconds before next page request.\n",
      "INFO:Skift.SkiftSource:Author not available for article id c741aea318f152907f4a820622be4c70 and article headline New Report: Rethinking Travel Content Marketing in the Age of AI.\n",
      "INFO:Skift.SkiftSource:Sleeping for 2.0 seconds before next page request.\n",
      "INFO:Skift.SkiftSource:Encountered article dated 2025-07-24 21:15:51 < last ingested 2025-07-25 00:00:00, stopping.\n",
      "INFO:Skift.SkiftSource:Total new articles extracted: 80\n",
      "INFO:PhocusWire.PhocusWireSource:Sleeping for 2.4 seconds before next page request.\n",
      "INFO:PhocusWire.PhocusWireSource:Encountered article dated 2025-07-24 00:00:00 < last ingested 2025-07-25 00:00:00, stopping.\n",
      "INFO:PhocusWire.PhocusWireSource:Total new articles extracted: 17\n",
      "INFO:__main__:Total articles extracted : 97\n"
     ]
    }
   ],
   "source": [
    "if __name__ == \"__main__\":\n",
    "    sqlite_db = Database(DB_DIR = r\"C:/Users/HP/Documents/repos/news_ingestion_data_pipeline/data\", DB_FILE = \"articles.db\")\n",
    "    latest_timestamp, is_incremental  = sqlite_db.get_latest_news_time()\n",
    "    if is_incremental:\n",
    "        logger.info(\"Initiating increment load...\")\n",
    "        logger.info(f\"Latest record time stamp present in database : {latest_timestamp}\")\n",
    "    else:\n",
    "        logger.info(\"Latest record timestamp not found in database.\")\n",
    "        logger.info(\"Initiating full load...\")\n",
    "    extracted_articles = []\n",
    "    \n",
    "    Skriftscraper = SkiftScraper()\n",
    "    \n",
    "    skift_articles = Skriftscraper.extract_articles(latest_timestamp)\n",
    "    extracted_articles.extend(skift_articles)\n",
    "    Phocuswirescraper = PhocuswireScraper()\n",
    "    phocuswire_articles = Phocuswirescraper.extract_articles(latest_timestamp)\n",
    "    extracted_articles.extend(phocuswire_articles)\n",
    "\n",
    "    logger.info(f\"Total articles extracted : {len(extracted_articles)}\")\n",
    "\n",
    "    sqlite_db.upsert_articles(extracted_articles)\n",
    "\n",
    "  \n"
   ]
  },
  {
   "cell_type": "code",
   "execution_count": 12,
   "id": "bad4f177",
   "metadata": {},
   "outputs": [
    {
     "name": "stdout",
     "output_type": "stream",
     "text": [
      "('b6180012cdfcaab01451bded2196d26c', 'https://skift.com/2025/08/01/from-concur-to-spotnana-steve-singh-on-how-ai-could-fix-corporate-travel/', 'From Concur to Spotnana: Steve Singh on How AI Could Fix Corporate Travel', \"Sean O'Neill\", '2025-08-01T17:19:21', 'Skift', '2025-08-03 06:37:48')\n",
      "('d030436466546bcf23aa4befbf4d08b6', 'https://skift.com/2025/08/01/delta-says-it-will-not-use-ai-to-target-customers/', 'Delta Responds to AI-Pricing Backlash: No ‘Individualized Prices Based on Personal Data’', 'Meghna Maharishi', '2025-08-01T15:05:14', 'Skift', '2025-08-03 06:37:48')\n",
      "('8db7ffa1ba14adc8dd8348e7f5d1923d', 'https://skift.com/2025/08/01/u-s-dollar-slide-hurts-accor-minor-and-melia/', 'U.S. Dollar Slide Hurts Accor, Minor, and Meliá', 'Luke Martin', '2025-08-01T13:53:29', 'Skift', '2025-08-03 06:37:48')\n",
      "('3fa30e2c6eee18976f224053633c1a27', 'https://skift.com/2025/08/01/winners-losers-and-lots-of-premium-seats-europes-airline-scorecard/', 'Winners, Losers, and Lots of Premium Seats: Europe’s Airline Scorecard', 'Gordon Smith', '2025-08-01T13:13:39', 'Skift', '2025-08-03 06:37:48')\n",
      "('265b2b2258dd197970b5619cbd6b943a', 'https://skift.com/2025/08/01/electrification-and-renewables-are-driving-iberostars-emissions-decline/', 'Electrification and Renewables Are Driving Iberostar’s Emissions Decline', 'Darin Graham', '2025-08-01T13:02:26', 'Skift', '2025-08-03 06:37:48')\n"
     ]
    }
   ],
   "source": [
    "sqlite_db.query_topn_articles()"
   ]
  },
  {
   "cell_type": "code",
   "execution_count": null,
   "id": "234704c2",
   "metadata": {},
   "outputs": [],
   "source": []
  }
 ],
 "metadata": {
  "kernelspec": {
   "display_name": "Python 3",
   "language": "python",
   "name": "python3"
  },
  "language_info": {
   "codemirror_mode": {
    "name": "ipython",
    "version": 3
   },
   "file_extension": ".py",
   "mimetype": "text/x-python",
   "name": "python",
   "nbconvert_exporter": "python",
   "pygments_lexer": "ipython3",
   "version": "3.13.0"
  }
 },
 "nbformat": 4,
 "nbformat_minor": 5
}

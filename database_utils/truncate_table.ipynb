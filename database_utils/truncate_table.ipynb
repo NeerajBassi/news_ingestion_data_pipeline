{
 "cells": [
  {
   "cell_type": "code",
   "execution_count": 5,
   "id": "83b468b4",
   "metadata": {},
   "outputs": [],
   "source": [
    "import sqlite3\n",
    "import os\n"
   ]
  },
  {
   "cell_type": "code",
   "execution_count": 6,
   "id": "bc12ccc6",
   "metadata": {},
   "outputs": [],
   "source": [
    "DB_DIR = r\"C:/Users/HP/Documents/repos/news_ingestion_data_pipeline/data\"\n",
    "DB_FILE = \"articles.db\"\n",
    "DB_PATH = os.path.join(DB_DIR, DB_FILE)"
   ]
  },
  {
   "cell_type": "code",
   "execution_count": 14,
   "id": "bc20bef4",
   "metadata": {},
   "outputs": [],
   "source": [
    "\n",
    "def truncate_table_and_vacuum(table_name):\n",
    "    with sqlite3.connect(DB_PATH) as conn:\n",
    "        cursor = conn.cursor()\n",
    "        cursor.execute(f\"DELETE FROM {table_name};\")\n",
    "        conn.commit()\n",
    "        cursor.execute(\"VACUUM;\")\n",
    "   "
   ]
  },
  {
   "cell_type": "code",
   "execution_count": 15,
   "id": "87fb0826",
   "metadata": {},
   "outputs": [
    {
     "name": "stdout",
     "output_type": "stream",
     "text": [
      "Table truncated and database vacuumed successfully.\n"
     ]
    }
   ],
   "source": [
    "truncate_table_and_vacuum(\"articles\")\n",
    "print(\"Table truncated and database vacuumed successfully.\")"
   ]
  },
  {
   "cell_type": "code",
   "execution_count": null,
   "id": "854ba9f3",
   "metadata": {},
   "outputs": [],
   "source": []
  }
 ],
 "metadata": {
  "kernelspec": {
   "display_name": "Python 3",
   "language": "python",
   "name": "python3"
  },
  "language_info": {
   "codemirror_mode": {
    "name": "ipython",
    "version": 3
   },
   "file_extension": ".py",
   "mimetype": "text/x-python",
   "name": "python",
   "nbconvert_exporter": "python",
   "pygments_lexer": "ipython3",
   "version": "3.13.0"
  }
 },
 "nbformat": 4,
 "nbformat_minor": 5
}

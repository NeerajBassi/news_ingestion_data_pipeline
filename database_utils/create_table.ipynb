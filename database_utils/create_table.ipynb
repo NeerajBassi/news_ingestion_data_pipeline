{
 "cells": [
  {
   "cell_type": "code",
   "execution_count": 2,
   "id": "4058e48f",
   "metadata": {},
   "outputs": [],
   "source": [
    "import sqlite3\n",
    "import os"
   ]
  },
  {
   "cell_type": "code",
   "execution_count": 3,
   "id": "0991bcf8",
   "metadata": {},
   "outputs": [],
   "source": [
    "DB_DIR = r\"C:/Users/HP/Documents/repos/news_ingestion_data_pipeline/data\"\n",
    "DB_FILE = \"articles.db\"\n",
    "DB_PATH = os.path.join(DB_DIR, DB_FILE)\n"
   ]
  },
  {
   "cell_type": "code",
   "execution_count": 5,
   "id": "dd66b7ba",
   "metadata": {},
   "outputs": [],
   "source": [
    "def init_db():\n",
    "    \"\"\"Creates the articles table if it doesn't exist.\"\"\"\n",
    "    os.makedirs(DB_DIR, exist_ok=True)\n",
    "    with sqlite3.connect(DB_PATH) as conn:\n",
    "        conn.execute(\"\"\"\n",
    "            CREATE TABLE IF NOT EXISTS articles (\n",
    "                Article_id TEXT PRIMARY KEY,\n",
    "                News_link TEXT,\n",
    "                News_title TEXT,\n",
    "                Author_name TEXT,\n",
    "                News_published_time TEXT,\n",
    "                Source_name TEXT,\n",
    "                Processed_at TEXT            )\n",
    "        \"\"\")\n",
    "\n",
    "init_db()"
   ]
  },
  {
   "cell_type": "code",
   "execution_count": null,
   "id": "b0b40e30",
   "metadata": {},
   "outputs": [],
   "source": []
  }
 ],
 "metadata": {
  "kernelspec": {
   "display_name": "Python 3",
   "language": "python",
   "name": "python3"
  },
  "language_info": {
   "codemirror_mode": {
    "name": "ipython",
    "version": 3
   },
   "file_extension": ".py",
   "mimetype": "text/x-python",
   "name": "python",
   "nbconvert_exporter": "python",
   "pygments_lexer": "ipython3",
   "version": "3.13.0"
  }
 },
 "nbformat": 4,
 "nbformat_minor": 5
}
